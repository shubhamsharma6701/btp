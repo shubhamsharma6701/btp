{
 "cells": [
  {
   "cell_type": "code",
   "execution_count": 2,
   "id": "689a35bb",
   "metadata": {},
   "outputs": [],
   "source": [
    "import pandas as pd\n",
    "import numpy as np\n",
    "import math\n",
    "import statistics as st\n",
    "from datetime import timedelta\n",
    "from sklearn.cluster import KMeans\n",
    "from sklearn.model_selection import train_test_split\n",
    "from sklearn.metrics import silhouette_score\n",
    "from collections import defaultdict\n",
    "import matplotlib.pyplot as plt\n",
    "from sklearn.cluster import DBSCAN"
   ]
  },
  {
   "cell_type": "code",
   "execution_count": 3,
   "id": "1ab7c9ce",
   "metadata": {},
   "outputs": [],
   "source": [
    "df = pd.read_excel(\"../datasets/indian_stock_indices/Stock_Indices.xlsx\")"
   ]
  },
  {
   "cell_type": "code",
   "execution_count": 4,
   "id": "939371b5",
   "metadata": {},
   "outputs": [
    {
     "data": {
      "text/html": [
       "<div>\n",
       "<style scoped>\n",
       "    .dataframe tbody tr th:only-of-type {\n",
       "        vertical-align: middle;\n",
       "    }\n",
       "\n",
       "    .dataframe tbody tr th {\n",
       "        vertical-align: top;\n",
       "    }\n",
       "\n",
       "    .dataframe thead th {\n",
       "        text-align: right;\n",
       "    }\n",
       "</style>\n",
       "<table border=\"1\" class=\"dataframe\">\n",
       "  <thead>\n",
       "    <tr style=\"text-align: right;\">\n",
       "      <th></th>\n",
       "      <th>Date</th>\n",
       "      <th>SENSEX</th>\n",
       "      <th>NIFTY50</th>\n",
       "      <th>NIFTY_CONSUMPTION</th>\n",
       "    </tr>\n",
       "  </thead>\n",
       "  <tbody>\n",
       "    <tr>\n",
       "      <th>0</th>\n",
       "      <td>2014-01-01</td>\n",
       "      <td>21140.48</td>\n",
       "      <td>6323.80</td>\n",
       "      <td>2590.000000</td>\n",
       "    </tr>\n",
       "    <tr>\n",
       "      <th>1</th>\n",
       "      <td>2014-01-02</td>\n",
       "      <td>20888.33</td>\n",
       "      <td>6301.25</td>\n",
       "      <td>2544.649902</td>\n",
       "    </tr>\n",
       "    <tr>\n",
       "      <th>2</th>\n",
       "      <td>2014-01-03</td>\n",
       "      <td>20851.33</td>\n",
       "      <td>6194.55</td>\n",
       "      <td>2546.949951</td>\n",
       "    </tr>\n",
       "    <tr>\n",
       "      <th>3</th>\n",
       "      <td>2014-01-06</td>\n",
       "      <td>20787.30</td>\n",
       "      <td>6220.85</td>\n",
       "      <td>2544.649902</td>\n",
       "    </tr>\n",
       "    <tr>\n",
       "      <th>4</th>\n",
       "      <td>2014-01-07</td>\n",
       "      <td>20693.24</td>\n",
       "      <td>6203.90</td>\n",
       "      <td>2543.399902</td>\n",
       "    </tr>\n",
       "  </tbody>\n",
       "</table>\n",
       "</div>"
      ],
      "text/plain": [
       "        Date    SENSEX  NIFTY50  NIFTY_CONSUMPTION\n",
       "0 2014-01-01  21140.48  6323.80        2590.000000\n",
       "1 2014-01-02  20888.33  6301.25        2544.649902\n",
       "2 2014-01-03  20851.33  6194.55        2546.949951\n",
       "3 2014-01-06  20787.30  6220.85        2544.649902\n",
       "4 2014-01-07  20693.24  6203.90        2543.399902"
      ]
     },
     "execution_count": 4,
     "metadata": {},
     "output_type": "execute_result"
    }
   ],
   "source": [
    "df.head()"
   ]
  },
  {
   "cell_type": "code",
   "execution_count": 5,
   "id": "b41e46d0",
   "metadata": {},
   "outputs": [],
   "source": [
    "total_size = 2469\n",
    "\n",
    "train_size = 1728 # Training data of 7 years (01-01-2014 to 31-12-2020)\n",
    "test_size = 741 # Testing data of 3 years (01-01-2021 to 31-12-2023)"
   ]
  },
  {
   "cell_type": "code",
   "execution_count": 41,
   "id": "68776aba",
   "metadata": {},
   "outputs": [],
   "source": [
    "window_size = 30\n",
    "\n",
    "sensex_graph_lists = []\n",
    "nifty_graph_lists = []\n",
    "niftyc_graph_lists = []\n",
    "\n",
    "sensex_closing_prices = []\n",
    "nifty_closing_prices = []\n",
    "niftyc_closing_prices = []\n",
    "\n",
    "i = 0\n",
    "j = window_size\n",
    "\n",
    "while j < total_size:\n",
    "    k = i\n",
    "    \n",
    "    sensex_graph_list = []\n",
    "    nifty_graph_list = []\n",
    "    niftyc_graph_list = []\n",
    "\n",
    "    while k <= j:\n",
    "        sensex_graph_list.append(df['SENSEX'][k])\n",
    "        nifty_graph_list.append(df['NIFTY50'][k])\n",
    "        niftyc_graph_list.append(df['NIFTY_CONSUMPTION'][k])\n",
    "        \n",
    "        k += 1\n",
    "    sensex_graph_lists.append(sensex_graph_list)\n",
    "    nifty_graph_lists.append(nifty_graph_list)\n",
    "    niftyc_graph_lists.append(niftyc_graph_list)\n",
    "    \n",
    "    sensex_closing_prices.append(df['SENSEX'][j])\n",
    "    nifty_closing_prices.append(df['NIFTY50'][j])\n",
    "    niftyc_closing_prices.append(df['NIFTY_CONSUMPTION'][j])\n",
    "    \n",
    "    i += 1\n",
    "    j += 1"
   ]
  },
  {
   "cell_type": "code",
   "execution_count": 55,
   "id": "c8a47281",
   "metadata": {},
   "outputs": [
    {
     "name": "stdout",
     "output_type": "stream",
     "text": [
      "31\n"
     ]
    }
   ],
   "source": [
    "print(len(sensex_graph_lists[0]))"
   ]
  },
  {
   "cell_type": "code",
   "execution_count": 42,
   "id": "5724b714",
   "metadata": {},
   "outputs": [
    {
     "name": "stdout",
     "output_type": "stream",
     "text": [
      "2409\n"
     ]
    }
   ],
   "source": [
    "print(len(sensex_closing_prices))"
   ]
  },
  {
   "cell_type": "code",
   "execution_count": 57,
   "id": "35441378",
   "metadata": {},
   "outputs": [],
   "source": [
    "N = 5 # N-day returns\n",
    "\n",
    "sensex_N_day_returns = []\n",
    "nifty_N_day_returns = []\n",
    "niftyc_N_day_returns = []\n",
    "\n",
    "sensex_volatis = []\n",
    "nifty_volatis = []\n",
    "niftyc_volatis = []\n",
    "\n",
    "for (sensex_graph_list, nifty_graph_list, niftyc_graph_list) in (zip(sensex_graph_lists, nifty_graph_lists, niftyc_graph_lists)):\n",
    "    \n",
    "    sensex_returns = []\n",
    "    nifty_returns = []\n",
    "    niftyc_returns = []\n",
    "    \n",
    "    sensex_vol = []\n",
    "    nifty_vol = []\n",
    "    niftyc_vol = []\n",
    "    \n",
    "    i = 0\n",
    "    j = i + 1\n",
    "    k = i + N    \n",
    "    \n",
    "    while k < window_size:\n",
    "        sensex_ret = math.log(sensex_graph_list[k] / sensex_graph_list[i])\n",
    "        nifty_ret = math.log(nifty_graph_list[k] / nifty_graph_list[i])\n",
    "        niftyc_ret = math.log(niftyc_graph_list[k] / niftyc_graph_list[i])\n",
    "        \n",
    "        sensex_returns.append(sensex_ret)\n",
    "        nifty_returns.append(nifty_ret)\n",
    "        niftyc_returns.append(niftyc_ret)\n",
    "        \n",
    "        i += 1\n",
    "        k += 1\n",
    "    sensex_N_day_returns.append(sensex_returns)\n",
    "    nifty_N_day_returns.append(nifty_returns)\n",
    "    niftyc_N_day_returns.append(niftyc_returns)\n",
    "    \n",
    "    i = j - 1\n",
    "    \n",
    "    while j < window_size:\n",
    "        sensex_returns = []\n",
    "        nifty_returns = []\n",
    "        niftyc_returns = []\n",
    "        \n",
    "        a = i\n",
    "        b = j\n",
    "        \n",
    "        itr = 0\n",
    "        while b < window_size and itr < N:\n",
    "            r1 = math.log(sensex_graph_list[b] / sensex_graph_list[a])\n",
    "            r2 = math.log(nifty_graph_list[b] / nifty_graph_list[a])\n",
    "            r3 = math.log(niftyc_graph_list[b] / niftyc_graph_list[a])\n",
    "            \n",
    "            sensex_returns.append(r1)\n",
    "            nifty_returns.append(r2)\n",
    "            niftyc_returns.append(r3)\n",
    "            \n",
    "            itr += 1\n",
    "            \n",
    "            a += 1\n",
    "            b += 1\n",
    "        \n",
    "        if itr == N:\n",
    "            vol1 = st.stdev(sensex_returns) * math.sqrt(N)\n",
    "            vol2 = st.stdev(nifty_returns) * math.sqrt(N)\n",
    "            vol3 = st.stdev(niftyc_returns) * math.sqrt(N)\n",
    "    \n",
    "            sensex_vol.append(vol1)\n",
    "            nifty_vol.append(vol2)\n",
    "            niftyc_vol.append(vol3)\n",
    "        \n",
    "        j += 1\n",
    "        i += 1\n",
    "    sensex_volatis.append(sensex_vol)\n",
    "    nifty_volatis.append(nifty_vol)\n",
    "    niftyc_volatis.append(niftyc_vol) "
   ]
  },
  {
   "cell_type": "code",
   "execution_count": 58,
   "id": "b7ec8a09",
   "metadata": {},
   "outputs": [
    {
     "name": "stdout",
     "output_type": "stream",
     "text": [
      "25\n"
     ]
    }
   ],
   "source": [
    "print(len(sensex_volatis[0]))"
   ]
  },
  {
   "cell_type": "code",
   "execution_count": 59,
   "id": "09815c0d",
   "metadata": {},
   "outputs": [],
   "source": [
    "# print(len(sensex_volatis))\n",
    "# print(len(sensex_N_day_returns))\n",
    "# print(len(sensex_closing_prices))"
   ]
  },
  {
   "cell_type": "code",
   "execution_count": 60,
   "id": "42d1d06c",
   "metadata": {},
   "outputs": [],
   "source": [
    "total_size = len(sensex_volatis)"
   ]
  },
  {
   "cell_type": "code",
   "execution_count": 61,
   "id": "024c8ead",
   "metadata": {},
   "outputs": [],
   "source": [
    "train_size = 0.75\n",
    "test_size = 1 - train_size"
   ]
  },
  {
   "cell_type": "code",
   "execution_count": 62,
   "id": "42f60949",
   "metadata": {},
   "outputs": [],
   "source": [
    "train_sensex_volatis = []\n",
    "train_nifty_volatis = []\n",
    "train_niftyc_volatis = []\n",
    "\n",
    "train_sensex_N_day_returns = []\n",
    "train_nifty_N_day_returns = []\n",
    "train_niftyc_N_day_returns = []\n",
    "\n",
    "train_sensex_closing_prices = []\n",
    "train_nifty_closing_prices = []\n",
    "train_niftyc_closing_prices = []"
   ]
  },
  {
   "cell_type": "code",
   "execution_count": 63,
   "id": "5d7f8198",
   "metadata": {},
   "outputs": [],
   "source": [
    "test_sensex_volatis = []\n",
    "test_nifty_volatis = []\n",
    "test_niftyc_volatis = []\n",
    "\n",
    "test_sensex_N_day_returns = []\n",
    "test_nifty_N_day_returns = []\n",
    "test_niftyc_N_day_returns = []\n",
    "\n",
    "test_sensex_closing_prices = []\n",
    "test_nifty_closing_prices = []\n",
    "test_niftyc_closing_prices = []"
   ]
  },
  {
   "cell_type": "code",
   "execution_count": 64,
   "id": "6dbf14e2",
   "metadata": {},
   "outputs": [],
   "source": [
    "for i in range(int(0.75 * total_size)):\n",
    "    train_sensex_volatis.append(sensex_volatis[i])\n",
    "    train_nifty_volatis.append(nifty_volatis[i])\n",
    "    train_niftyc_volatis.append(niftyc_volatis[i])\n",
    "\n",
    "    train_sensex_N_day_returns.append(sensex_N_day_returns[i])\n",
    "    train_nifty_N_day_returns.append(nifty_N_day_returns[i])\n",
    "    train_niftyc_N_day_returns.append(niftyc_N_day_returns[i])\n",
    "\n",
    "    train_sensex_closing_prices.append(sensex_closing_prices[i])\n",
    "    train_nifty_closing_prices.append(nifty_closing_prices[i])\n",
    "    train_niftyc_closing_prices.append(niftyc_closing_prices[i])"
   ]
  },
  {
   "cell_type": "code",
   "execution_count": 65,
   "id": "c5197c44",
   "metadata": {},
   "outputs": [],
   "source": [
    "for i in range(int(0.75 * total_size), total_size):\n",
    "    test_sensex_volatis.append(sensex_volatis[i])\n",
    "    test_nifty_volatis.append(nifty_volatis[i])\n",
    "    test_niftyc_volatis.append(niftyc_volatis[i])\n",
    "\n",
    "    test_sensex_N_day_returns.append(sensex_N_day_returns[i])\n",
    "    test_nifty_N_day_returns.append(nifty_N_day_returns[i])\n",
    "    test_niftyc_N_day_returns.append(niftyc_N_day_returns[i])\n",
    "\n",
    "    test_sensex_closing_prices.append(sensex_closing_prices[i])\n",
    "    test_nifty_closing_prices.append(nifty_closing_prices[i])\n",
    "    test_niftyc_closing_prices.append(niftyc_closing_prices[i])"
   ]
  },
  {
   "cell_type": "code",
   "execution_count": 66,
   "id": "be9e2ac6",
   "metadata": {},
   "outputs": [
    {
     "name": "stdout",
     "output_type": "stream",
     "text": [
      "25\n",
      "25\n"
     ]
    }
   ],
   "source": [
    "# print(len(train_sensex_volatis))\n",
    "# print(len(test_sensex_volatis))\n",
    "print(len(train_sensex_volatis[1]))\n",
    "print(len(train_sensex_N_day_returns[1]))"
   ]
  },
  {
   "cell_type": "code",
   "execution_count": 59,
   "id": "795f94e2",
   "metadata": {},
   "outputs": [
    {
     "name": "stdout",
     "output_type": "stream",
     "text": [
      "Done\n"
     ]
    },
    {
     "ename": "IndexError",
     "evalue": "list index out of range",
     "output_type": "error",
     "traceback": [
      "\u001b[1;31m---------------------------------------------------------------------------\u001b[0m",
      "\u001b[1;31mIndexError\u001b[0m                                Traceback (most recent call last)",
      "Input \u001b[1;32mIn [59]\u001b[0m, in \u001b[0;36m<cell line: 3>\u001b[1;34m()\u001b[0m\n\u001b[0;32m     40\u001b[0m     prev_niftyc_node \u001b[38;5;241m=\u001b[39m \u001b[38;5;241m3\u001b[39m\n\u001b[0;32m     42\u001b[0m \u001b[38;5;28;01mif\u001b[39;00m j \u001b[38;5;241m+\u001b[39m \u001b[38;5;241m1\u001b[39m \u001b[38;5;241m<\u001b[39m list_size:\n\u001b[1;32m---> 43\u001b[0m     \u001b[38;5;28;01mif\u001b[39;00m \u001b[43mtrain_sensex_N_day_returns\u001b[49m\u001b[43m[\u001b[49m\u001b[43mi\u001b[49m\u001b[43m]\u001b[49m\u001b[43m[\u001b[49m\u001b[43mj\u001b[49m\u001b[43m \u001b[49m\u001b[38;5;241;43m+\u001b[39;49m\u001b[43m \u001b[49m\u001b[38;5;241;43m1\u001b[39;49m\u001b[43m]\u001b[49m \u001b[38;5;241m>\u001b[39m\u001b[38;5;241m=\u001b[39m \u001b[38;5;241m0\u001b[39m \u001b[38;5;129;01mand\u001b[39;00m train_sensex_volatis[i][j \u001b[38;5;241m+\u001b[39m \u001b[38;5;241m1\u001b[39m] \u001b[38;5;241m>\u001b[39m\u001b[38;5;241m=\u001b[39m train_sensex_volatis_avg:\n\u001b[0;32m     44\u001b[0m         next_sensex_node \u001b[38;5;241m=\u001b[39m \u001b[38;5;241m0\u001b[39m\n\u001b[0;32m     45\u001b[0m     \u001b[38;5;28;01mif\u001b[39;00m train_sensex_N_day_returns[i][j \u001b[38;5;241m+\u001b[39m \u001b[38;5;241m1\u001b[39m] \u001b[38;5;241m>\u001b[39m\u001b[38;5;241m=\u001b[39m \u001b[38;5;241m0\u001b[39m \u001b[38;5;129;01mand\u001b[39;00m train_sensex_volatis[i][j \u001b[38;5;241m+\u001b[39m \u001b[38;5;241m1\u001b[39m] \u001b[38;5;241m<\u001b[39m train_sensex_volatis_avg:\n",
      "\u001b[1;31mIndexError\u001b[0m: list index out of range"
     ]
    }
   ],
   "source": [
    "train_pattern_graphs = []\n",
    "\n",
    "for i in range(int(train_size * total_size)):\n",
    "    train_sensex_volatis_avg = np.average(train_sensex_volatis[i])\n",
    "    train_nifty_volatis_avg = np.average(train_nifty_volatis[i])\n",
    "    train_niftyc_volatis_avg = np.average(train_niftyc_volatis[i])\n",
    "    \n",
    "    print(\"Done\")\n",
    "    shape = (64, 64)\n",
    "    graph = np.zeros(shape)\n",
    "    \n",
    "    list_size = len(train_sensex_volatis[i])\n",
    "    \n",
    "    for j in range(list_size):\n",
    "        if train_sensex_N_day_returns[i][j] >= 0 and train_sensex_volatis[i][j] >= train_sensex_volatis_avg:\n",
    "            prev_sensex_node = 0\n",
    "        if train_sensex_N_day_returns[i][j] >= 0 and train_sensex_volatis[i][j] < train_sensex_volatis_avg:\n",
    "            prev_sensex_node = 1\n",
    "        if train_sensex_N_day_returns[i][j] < 0 and train_sensex_volatis[i][j] >= train_sensex_volatis_avg:\n",
    "            prev_sensex_node = 2\n",
    "        if train_sensex_N_day_returns[i][j] < 0 and train_sensex_volatis[i][j] < train_sensex_volatis_avg:\n",
    "            prev_sensex_node = 3\n",
    "            \n",
    "        if train_nifty_N_day_returns[i][j] >= 0 and train_nifty_volatis[i][j] >= train_nifty_volatis_avg:\n",
    "            prev_nifty_node = 0\n",
    "        if train_nifty_N_day_returns[i][j] >= 0 and train_nifty_volatis[i][j] < train_nifty_volatis_avg:\n",
    "            prev_nifty_node = 1\n",
    "        if train_nifty_N_day_returns[i][j] < 0 and train_nifty_volatis[i][j] >= train_nifty_volatis_avg:\n",
    "            prev_nifty_node = 2\n",
    "        if train_nifty_N_day_returns[i][j] < 0 and train_nifty_volatis[i][j] < train_nifty_volatis_avg:\n",
    "            prev_nifty_node = 3\n",
    "        \n",
    "        if train_niftyc_N_day_returns[i][j] >= 0 and train_niftyc_volatis[i][j] >= train_niftyc_volatis_avg:\n",
    "            prev_niftyc_node = 0\n",
    "        if train_niftyc_N_day_returns[i][j] >= 0 and train_niftyc_volatis[i][j] < train_niftyc_volatis_avg:\n",
    "            prev_niftyc_node = 1\n",
    "        if train_niftyc_N_day_returns[i][j] < 0 and train_niftyc_volatis[i][j] >= train_niftyc_volatis_avg:\n",
    "            prev_niftyc_node = 2\n",
    "        if train_niftyc_N_day_returns[i][j] < 0 and train_niftyc_volatis[i][j] < train_niftyc_volatis_avg:\n",
    "            prev_niftyc_node = 3\n",
    "            \n",
    "        if j + 1 < list_size:\n",
    "            if train_sensex_N_day_returns[i][j + 1] >= 0 and train_sensex_volatis[i][j + 1] >= train_sensex_volatis_avg:\n",
    "                next_sensex_node = 0\n",
    "            if train_sensex_N_day_returns[i][j + 1] >= 0 and train_sensex_volatis[i][j + 1] < train_sensex_volatis_avg:\n",
    "                next_sensex_node = 1\n",
    "            if train_sensex_N_day_returns[i][j + 1] < 0 and train_sensex_volatis[i][j + 1] >= train_sensex_volatis_avg:\n",
    "                next_sensex_node = 2\n",
    "            if train_sensex_N_day_returns[i][j + 1] < 0 and train_sensex_volatis[i][j + 1] < train_sensex_volatis_avg:\n",
    "                next_sensex_node = 3\n",
    "\n",
    "            if train_nifty_N_day_returns[i][j + 1] >= 0 and train_nifty_volatis[i][j + 1] >= train_nifty_volatis_avg:\n",
    "                next_nifty_node = 0\n",
    "            if train_nifty_N_day_returns[i][j + 1] >= 0 and train_nifty_volatis[i][j + 1] < train_nifty_volatis_avg:\n",
    "                next_nifty_node = 1\n",
    "            if train_nifty_N_day_returns[i][j + 1] < 0 and train_nifty_volatis[i][j + 1] >= train_nifty_volatis_avg:\n",
    "                next_nifty_node = 2\n",
    "            if train_nifty_N_day_returns[i][j + 1] < 0 and train_nifty_volatis[i][j + 1] < train_nifty_volatis_avg:\n",
    "                next_nifty_node = 3\n",
    "\n",
    "            if train_niftyc_N_day_returns[i][j + 1] >= 0 and train_niftyc_volatis[i][j + 1] >= train_niftyc_volatis_avg:\n",
    "                next_niftyc_node = 0\n",
    "            if train_niftyc_N_day_returns[i][j + 1] >= 0 and train_niftyc_volatis[i][j + 1] < train_niftyc_volatis_avg:\n",
    "                next_niftyc_node = 1\n",
    "            if train_niftyc_N_day_returns[i][j + 1] < 0 and train_niftyc_volatis[i][j + 1] >= train_niftyc_volatis_avg:\n",
    "                next_niftyc_node = 2\n",
    "            if train_niftyc_N_day_returns[i][j + 1] < 0 and train_niftyc_volatis[i][j + 1] < train_niftyc_volatis_avg:\n",
    "                next_niftyc_node = 3\n",
    "\n",
    "        prev_node = prev_sensex_node * (4 ** 0) + prev_nifty_node * (4 ** 1) + prev_niftyc_node * (4 ** 2)\n",
    "        next_node = next_sensex_node * (4 ** 0) + next_nifty_node * (4 ** 1) + next_niftyc_node * (4 ** 2)\n",
    "        \n",
    "        graph[prev_node][next_node] += 1\n",
    "    train_pattern_graphs.append(graph)"
   ]
  },
  {
   "cell_type": "code",
   "execution_count": 44,
   "id": "01550adb",
   "metadata": {},
   "outputs": [
    {
     "name": "stdout",
     "output_type": "stream",
     "text": [
      "0\n"
     ]
    }
   ],
   "source": [
    "print(len(train_pattern_graphs))"
   ]
  },
  {
   "cell_type": "code",
   "execution_count": null,
   "id": "1ee61d02",
   "metadata": {},
   "outputs": [],
   "source": []
  }
 ],
 "metadata": {
  "kernelspec": {
   "display_name": "Python 3 (ipykernel)",
   "language": "python",
   "name": "python3"
  },
  "language_info": {
   "codemirror_mode": {
    "name": "ipython",
    "version": 3
   },
   "file_extension": ".py",
   "mimetype": "text/x-python",
   "name": "python",
   "nbconvert_exporter": "python",
   "pygments_lexer": "ipython3",
   "version": "3.9.12"
  }
 },
 "nbformat": 4,
 "nbformat_minor": 5
}
