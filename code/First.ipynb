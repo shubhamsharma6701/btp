{
 "cells": [
  {
   "cell_type": "code",
   "execution_count": 1,
   "id": "7af41356",
   "metadata": {},
   "outputs": [],
   "source": [
    "import pandas as pd\n",
    "import numpy as np\n",
    "import math\n",
    "import statistics as st\n",
    "from datetime import timedelta"
   ]
  },
  {
   "cell_type": "code",
   "execution_count": 2,
   "id": "5b898ab3",
   "metadata": {},
   "outputs": [],
   "source": [
    "df = pd.read_excel(\"../datasets/indian_stock_indices/Stock_Indices.xlsx\")"
   ]
  },
  {
   "cell_type": "code",
   "execution_count": 3,
   "id": "e36b62c5",
   "metadata": {},
   "outputs": [
    {
     "data": {
      "text/html": [
       "<div>\n",
       "<style scoped>\n",
       "    .dataframe tbody tr th:only-of-type {\n",
       "        vertical-align: middle;\n",
       "    }\n",
       "\n",
       "    .dataframe tbody tr th {\n",
       "        vertical-align: top;\n",
       "    }\n",
       "\n",
       "    .dataframe thead th {\n",
       "        text-align: right;\n",
       "    }\n",
       "</style>\n",
       "<table border=\"1\" class=\"dataframe\">\n",
       "  <thead>\n",
       "    <tr style=\"text-align: right;\">\n",
       "      <th></th>\n",
       "      <th>Date</th>\n",
       "      <th>SENSEX</th>\n",
       "      <th>NIFTY50</th>\n",
       "      <th>NIFTY_CONSUMPTION</th>\n",
       "    </tr>\n",
       "  </thead>\n",
       "  <tbody>\n",
       "    <tr>\n",
       "      <th>0</th>\n",
       "      <td>2014-01-01</td>\n",
       "      <td>21140.48</td>\n",
       "      <td>6323.80</td>\n",
       "      <td>2590.000000</td>\n",
       "    </tr>\n",
       "    <tr>\n",
       "      <th>1</th>\n",
       "      <td>2014-01-02</td>\n",
       "      <td>20888.33</td>\n",
       "      <td>6301.25</td>\n",
       "      <td>2544.649902</td>\n",
       "    </tr>\n",
       "    <tr>\n",
       "      <th>2</th>\n",
       "      <td>2014-01-03</td>\n",
       "      <td>20851.33</td>\n",
       "      <td>6194.55</td>\n",
       "      <td>2546.949951</td>\n",
       "    </tr>\n",
       "    <tr>\n",
       "      <th>3</th>\n",
       "      <td>2014-01-06</td>\n",
       "      <td>20787.30</td>\n",
       "      <td>6220.85</td>\n",
       "      <td>2544.649902</td>\n",
       "    </tr>\n",
       "    <tr>\n",
       "      <th>4</th>\n",
       "      <td>2014-01-07</td>\n",
       "      <td>20693.24</td>\n",
       "      <td>6203.90</td>\n",
       "      <td>2543.399902</td>\n",
       "    </tr>\n",
       "  </tbody>\n",
       "</table>\n",
       "</div>"
      ],
      "text/plain": [
       "        Date    SENSEX  NIFTY50  NIFTY_CONSUMPTION\n",
       "0 2014-01-01  21140.48  6323.80        2590.000000\n",
       "1 2014-01-02  20888.33  6301.25        2544.649902\n",
       "2 2014-01-03  20851.33  6194.55        2546.949951\n",
       "3 2014-01-06  20787.30  6220.85        2544.649902\n",
       "4 2014-01-07  20693.24  6203.90        2543.399902"
      ]
     },
     "execution_count": 3,
     "metadata": {},
     "output_type": "execute_result"
    }
   ],
   "source": [
    "df.head()"
   ]
  },
  {
   "cell_type": "code",
   "execution_count": 4,
   "id": "a496f127",
   "metadata": {},
   "outputs": [],
   "source": [
    "ONE_DAY = timedelta(days=1)"
   ]
  },
  {
   "cell_type": "code",
   "execution_count": 5,
   "id": "bcdf7b0d",
   "metadata": {},
   "outputs": [],
   "source": [
    "train_size = 1728 # Training data of 7 years (01-01-2014 to 31-12-2020)\n",
    "test_size = 741 # Testing data of 3 years (01-01-2021 to 31-12-2023)"
   ]
  },
  {
   "cell_type": "markdown",
   "id": "5719c41c",
   "metadata": {},
   "source": [
    "### Calculating weekly returns and volatilities (over 1 week) for SENSEX, NIFTY50 and NIFTY Consumption"
   ]
  },
  {
   "cell_type": "code",
   "execution_count": 6,
   "id": "cb8147bd",
   "metadata": {},
   "outputs": [],
   "source": [
    "N = train_size\n",
    "\n",
    "sensex_volatilities = []\n",
    "nifty_volatilities = []\n",
    "niftyc_volatilities = []\n",
    "\n",
    "sensex_returns = []\n",
    "nifty_returns = []\n",
    "niftyc_returns = []\n",
    "\n",
    "i = 0\n",
    "j = 0\n",
    "\n",
    "while i < N:\n",
    "    sensex_period_returns = []\n",
    "    nifty_period_returns = []\n",
    "    niftyc_period_returns = []\n",
    "    \n",
    "    period_size = 1\n",
    "    \n",
    "    while ((j + 1) < N) and ((df['Date'][j + 1] - df['Date'][j]) == timedelta(days=1)):\n",
    "        period_size += 1\n",
    "#         print(df['SENSEX'][j])\n",
    "\n",
    "        sensex_ret = math.log(df['SENSEX'][j + 1] / df['SENSEX'][j])\n",
    "        nifty_ret = math.log(df['NIFTY50'][j + 1] / df['NIFTY50'][j])\n",
    "        niftyc_ret = math.log(df['NIFTY_CONSUMPTION'][j + 1] / df['NIFTY_CONSUMPTION'][j])\n",
    "        \n",
    "        sensex_period_returns.append(sensex_ret)\n",
    "        nifty_period_returns.append(nifty_ret)\n",
    "        niftyc_period_returns.append(niftyc_ret)\n",
    "        \n",
    "        j += 1\n",
    "    j += 1\n",
    "    if len(sensex_period_returns) > 1: # One can use try-catch block here\n",
    "        sensex_vol = st.stdev(sensex_period_returns) * math.sqrt(period_size)\n",
    "        nifty_vol = st.stdev(nifty_period_returns) * math.sqrt(period_size)\n",
    "        niftyc_vol = st.stdev(niftyc_period_returns) * math.sqrt(period_size)\n",
    "        \n",
    "    sensex_volatilities.append(sensex_vol)\n",
    "    nifty_volatilities.append(nifty_vol)\n",
    "    niftyc_volatilities.append(niftyc_vol)\n",
    "    \n",
    "#     print(\"\\n\")\n",
    "    if j < N: # One can use try-catch block here\n",
    "        sensex_period_return = math.log(df['SENSEX'][j] / df['SENSEX'][j - period_size])\n",
    "        nifty_period_return = math.log(df['NIFTY50'][j] / df['NIFTY50'][j - period_size])\n",
    "        niftyc_period_return = math.log(df['NIFTY_CONSUMPTION'][j] / df['NIFTY_CONSUMPTION'][j - period_size])\n",
    "    sensex_returns.append(sensex_period_return)\n",
    "    nifty_returns.append(nifty_period_return)\n",
    "    niftyc_returns.append(nifty_period_return)\n",
    "    i = j"
   ]
  },
  {
   "cell_type": "markdown",
   "id": "c487ffc4",
   "metadata": {},
   "source": [
    "Testing cell"
   ]
  },
  {
   "cell_type": "code",
   "execution_count": 7,
   "id": "351a633c",
   "metadata": {},
   "outputs": [
    {
     "name": "stdout",
     "output_type": "stream",
     "text": [
      "412\n"
     ]
    }
   ],
   "source": [
    "print(len(sensex_returns))"
   ]
  },
  {
   "cell_type": "code",
   "execution_count": 8,
   "id": "b244a936",
   "metadata": {},
   "outputs": [],
   "source": [
    "# n = len(sensex_volatilities)\n",
    "# m = len(sensex_returns)\n",
    "\n",
    "# for i in range(n):\n",
    "#     print(sensex_volatilities[i], nifty_volatilities[i], niftyc_volatilities[i])\n",
    "\n",
    "# print(\"\\n\")\n",
    "# for i in range(m):\n",
    "#     print(sensex_returns[i], nifty_returns[i], niftyc_returns[i])"
   ]
  },
  {
   "cell_type": "code",
   "execution_count": 9,
   "id": "553282e4",
   "metadata": {},
   "outputs": [],
   "source": [
    "sensex_avg_volatility = np.average(sensex_volatilities)\n",
    "nifty_avg_volatility = np.average(nifty_volatilities)\n",
    "niftyc_avg_volatility = np.average(niftyc_volatilities)"
   ]
  },
  {
   "cell_type": "code",
   "execution_count": 10,
   "id": "5438dea0",
   "metadata": {},
   "outputs": [
    {
     "name": "stdout",
     "output_type": "stream",
     "text": [
      "0.017535058896640653\n",
      "0.01952843746803143\n",
      "0.015824667286852365\n"
     ]
    }
   ],
   "source": [
    "print(sensex_avg_volatility)\n",
    "print(nifty_avg_volatility)\n",
    "print(niftyc_avg_volatility)"
   ]
  },
  {
   "cell_type": "code",
   "execution_count": 11,
   "id": "e9095676",
   "metadata": {},
   "outputs": [],
   "source": [
    "window_size = 60\n",
    "pattern_graphs = []\n",
    "graph_nodes = []\n",
    "\n",
    "\n",
    "i = 0\n",
    "j = window_size\n",
    "\n",
    "N = len(sensex_returns)\n",
    "\n",
    "while j < N:\n",
    "    k = i\n",
    "    \n",
    "    shape = (64, 64)\n",
    "    graph = np.zeros(shape)\n",
    "    nodes = set()\n",
    "    \n",
    "    while (k < j):\n",
    "        \n",
    "        if sensex_returns[k] >= 0 and sensex_volatilities[k] >= sensex_avg_volatility:\n",
    "            prev_sensex_index = 0\n",
    "        if sensex_returns[k] >= 0 and sensex_volatilities[k] < sensex_avg_volatility:\n",
    "            prev_sensex_index = 1\n",
    "        if sensex_returns[k] < 0 and sensex_volatilities[k] >= sensex_avg_volatility:\n",
    "            prev_sensex_index = 2\n",
    "        if sensex_returns[k] < 0 and sensex_volatilities[k] < sensex_avg_volatility:\n",
    "            prev_sensex_index = 3\n",
    "        \n",
    "        if nifty_returns[k] >= 0 and nifty_volatilities[k] >= nifty_avg_volatility:\n",
    "            prev_nifty_index = 0\n",
    "        if nifty_returns[k] >= 0 and nifty_volatilities[k] < nifty_avg_volatility:\n",
    "            prev_nifty_index = 1\n",
    "        if nifty_returns[k] < 0 and nifty_volatilities[k] >= nifty_avg_volatility:\n",
    "            prev_nifty_index = 2\n",
    "        if nifty_returns[k] < 0 and nifty_volatilities[k] < nifty_avg_volatility:\n",
    "            prev_nifty_index = 3\n",
    "        \n",
    "        if niftyc_returns[k] >= 0 and niftyc_volatilities[k] >= niftyc_avg_volatility:\n",
    "            prev_niftyc_index = 0\n",
    "        if niftyc_returns[k] >= 0 and niftyc_volatilities[k] < niftyc_avg_volatility:\n",
    "            prev_niftyc_index = 1\n",
    "        if niftyc_returns[k] < 0 and niftyc_volatilities[k] >= niftyc_avg_volatility:\n",
    "            prev_niftyc_index = 2\n",
    "        if niftyc_returns[k] < 0 and niftyc_volatilities[k] < niftyc_avg_volatility:\n",
    "            prev_niftyc_index = 3\n",
    "\n",
    "        if sensex_returns[k + 1] >= 0 and sensex_volatilities[k + 1] >= sensex_avg_volatility:\n",
    "            next_sensex_index = 0\n",
    "        if sensex_returns[k + 1] >= 0 and sensex_volatilities[k + 1] < sensex_avg_volatility:\n",
    "            next_sensex_index = 1\n",
    "        if sensex_returns[k + 1] < 0 and sensex_volatilities[k + 1] >= sensex_avg_volatility:\n",
    "            next_sensex_index = 2\n",
    "        if sensex_returns[k + 1] < 0 and sensex_volatilities[k + 1] < sensex_avg_volatility:\n",
    "            next_sensex_index = 3\n",
    "        \n",
    "        if nifty_returns[k + 1] >= 0 and nifty_volatilities[k + 1] >= nifty_avg_volatility:\n",
    "            next_nifty_index = 0\n",
    "        if nifty_returns[k + 1] >= 0 and nifty_volatilities[k + 1] < nifty_avg_volatility:\n",
    "            next_nifty_index = 1\n",
    "        if nifty_returns[k + 1] < 0 and nifty_volatilities[k + 1] >= nifty_avg_volatility:\n",
    "            next_nifty_index = 2\n",
    "        if nifty_returns[k + 1] < 0 and nifty_volatilities[k + 1] < nifty_avg_volatility:\n",
    "            next_nifty_index = 3\n",
    "        \n",
    "        if niftyc_returns[k + 1] >= 0 and niftyc_volatilities[k + 1] >= niftyc_avg_volatility:\n",
    "            next_niftyc_index = 0\n",
    "        if niftyc_returns[k + 1] >= 0 and niftyc_volatilities[k + 1] < niftyc_avg_volatility:\n",
    "            next_niftyc_index = 1\n",
    "        if niftyc_returns[k + 1] < 0 and niftyc_volatilities[k + 1] >= niftyc_avg_volatility:\n",
    "            next_niftyc_index = 2\n",
    "        if niftyc_returns[k + 1] < 0 and niftyc_volatilities[k + 1] < niftyc_avg_volatility:\n",
    "            next_niftyc_index = 3\n",
    "\n",
    "        \n",
    "        prev_node = prev_niftyc_index * 4 ** 0 + prev_nifty_index * 4 ** 1 + prev_sensex_index * 4 ** 2\n",
    "        next_node = next_niftyc_index * 4 ** 0 + next_nifty_index * 4 ** 1 + next_sensex_index * 4 ** 2\n",
    "        \n",
    "        graph[prev_node][next_node] += 1\n",
    "        \n",
    "        k += 1\n",
    "        \n",
    "        nodes.add(prev_node)\n",
    "        nodes.add(next_node)\n",
    "        \n",
    "    graph_nodes.append(nodes)\n",
    "#     print('\\n')\n",
    "    pattern_graphs.append(graph)\n",
    "    i += 1\n",
    "    j += 1"
   ]
  },
  {
   "cell_type": "markdown",
   "id": "93a390dc",
   "metadata": {},
   "source": [
    "Testing cell"
   ]
  },
  {
   "cell_type": "code",
   "execution_count": 12,
   "id": "88d61ac6",
   "metadata": {},
   "outputs": [],
   "source": [
    "# for ele in graph_nodes:\n",
    "#     print(len(ele))"
   ]
  },
  {
   "cell_type": "code",
   "execution_count": 13,
   "id": "e9d9697d",
   "metadata": {},
   "outputs": [
    {
     "name": "stdout",
     "output_type": "stream",
     "text": [
      "352\n",
      "352\n"
     ]
    }
   ],
   "source": [
    "print(len(pattern_graphs))\n",
    "print(len(graph_nodes))"
   ]
  },
  {
   "cell_type": "code",
   "execution_count": 14,
   "id": "f64ac62c",
   "metadata": {},
   "outputs": [],
   "source": [
    "avg_degree_centralities = []\n",
    "N = len(graph_nodes)\n",
    "\n",
    "\n",
    "for k in range(N):\n",
    "    sum = 0\n",
    "    node = 0\n",
    "    degree_centrality = 0\n",
    "    for i in range(64):\n",
    "        flag = False\n",
    "        for j in range(64):\n",
    "            if pattern_graphs[k][i][j] > 0:\n",
    "                sum += 1\n",
    "                flag = True\n",
    "        if flag:\n",
    "            node += 1\n",
    "    degree_centrality = (1 / node) ** 2 * sum\n",
    "    avg_degree_centralities.append(degree_centrality)"
   ]
  },
  {
   "cell_type": "markdown",
   "id": "bb9b56a1",
   "metadata": {},
   "source": [
    "Testing cell"
   ]
  },
  {
   "cell_type": "code",
   "execution_count": 15,
   "id": "25fef671",
   "metadata": {},
   "outputs": [],
   "source": [
    "# for ele in avg_degree_centralities:\n",
    "#     print(ele)"
   ]
  },
  {
   "cell_type": "code",
   "execution_count": 16,
   "id": "555a2d6a",
   "metadata": {},
   "outputs": [],
   "source": [
    "avg_network_strengths = []\n",
    "N = len(graph_nodes)\n",
    "\n",
    "\n",
    "for k in range(N):\n",
    "    sum = 0\n",
    "    node = 0\n",
    "    strength = 0\n",
    "    for i in range(64):\n",
    "        flag = False\n",
    "        for j in range(64):\n",
    "            if pattern_graphs[k][i][j] > 0:\n",
    "                sum += pattern_graphs[k][i][j]\n",
    "                flag = True\n",
    "        if flag:\n",
    "            node += 1\n",
    "    strength = (1 / node) * sum\n",
    "    avg_network_strengths.append(strength)"
   ]
  },
  {
   "cell_type": "markdown",
   "id": "61138ae4",
   "metadata": {},
   "source": [
    "Testing cell"
   ]
  },
  {
   "cell_type": "code",
   "execution_count": 18,
   "id": "b9c0d66d",
   "metadata": {},
   "outputs": [],
   "source": [
    "# for ele in avg_network_strengths:\n",
    "#     print(ele)"
   ]
  },
  {
   "cell_type": "code",
   "execution_count": null,
   "id": "9488cca8",
   "metadata": {},
   "outputs": [],
   "source": []
  }
 ],
 "metadata": {
  "kernelspec": {
   "display_name": "Python 3 (ipykernel)",
   "language": "python",
   "name": "python3"
  },
  "language_info": {
   "codemirror_mode": {
    "name": "ipython",
    "version": 3
   },
   "file_extension": ".py",
   "mimetype": "text/x-python",
   "name": "python",
   "nbconvert_exporter": "python",
   "pygments_lexer": "ipython3",
   "version": "3.9.12"
  }
 },
 "nbformat": 4,
 "nbformat_minor": 5
}
