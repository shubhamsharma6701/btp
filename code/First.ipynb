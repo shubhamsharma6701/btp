{
 "cells": [
  {
   "cell_type": "markdown",
   "id": "d06bf582",
   "metadata": {},
   "source": [
    "# Pattern prediction in Stock Market"
   ]
  },
  {
   "cell_type": "markdown",
   "id": "cf3ed833",
   "metadata": {},
   "source": [
    "#### Packages required"
   ]
  },
  {
   "cell_type": "code",
   "execution_count": 119,
   "id": "7af41356",
   "metadata": {},
   "outputs": [],
   "source": [
    "import pandas as pd\n",
    "import numpy as np\n",
    "import math\n",
    "import statistics as st\n",
    "from datetime import timedelta\n",
    "from sklearn.cluster import KMeans\n",
    "from sklearn.model_selection import train_test_split\n",
    "from sklearn.metrics import silhouette_score\n",
    "from collections import defaultdict\n",
    "import matplotlib.pyplot as plt"
   ]
  },
  {
   "cell_type": "markdown",
   "id": "72fb9d7c",
   "metadata": {},
   "source": [
    "### Dataset"
   ]
  },
  {
   "cell_type": "markdown",
   "id": "fb89f498",
   "metadata": {},
   "source": [
    "#### Dataset consists of the parameters of 3 major stock indices of the country namely NIFTY50, SENSEX and NIFTY Consumption from 01-01-2014 to 31-12-2023"
   ]
  },
  {
   "cell_type": "code",
   "execution_count": 120,
   "id": "5b898ab3",
   "metadata": {},
   "outputs": [],
   "source": [
    "df = pd.read_excel(\"../datasets/indian_stock_indices/Stock_Indices.xlsx\")"
   ]
  },
  {
   "cell_type": "code",
   "execution_count": 121,
   "id": "e36b62c5",
   "metadata": {},
   "outputs": [
    {
     "data": {
      "text/html": [
       "<div>\n",
       "<style scoped>\n",
       "    .dataframe tbody tr th:only-of-type {\n",
       "        vertical-align: middle;\n",
       "    }\n",
       "\n",
       "    .dataframe tbody tr th {\n",
       "        vertical-align: top;\n",
       "    }\n",
       "\n",
       "    .dataframe thead th {\n",
       "        text-align: right;\n",
       "    }\n",
       "</style>\n",
       "<table border=\"1\" class=\"dataframe\">\n",
       "  <thead>\n",
       "    <tr style=\"text-align: right;\">\n",
       "      <th></th>\n",
       "      <th>Date</th>\n",
       "      <th>SENSEX</th>\n",
       "      <th>NIFTY50</th>\n",
       "      <th>NIFTY_CONSUMPTION</th>\n",
       "    </tr>\n",
       "  </thead>\n",
       "  <tbody>\n",
       "    <tr>\n",
       "      <th>0</th>\n",
       "      <td>2014-01-01</td>\n",
       "      <td>21140.48</td>\n",
       "      <td>6323.80</td>\n",
       "      <td>2590.000000</td>\n",
       "    </tr>\n",
       "    <tr>\n",
       "      <th>1</th>\n",
       "      <td>2014-01-02</td>\n",
       "      <td>20888.33</td>\n",
       "      <td>6301.25</td>\n",
       "      <td>2544.649902</td>\n",
       "    </tr>\n",
       "    <tr>\n",
       "      <th>2</th>\n",
       "      <td>2014-01-03</td>\n",
       "      <td>20851.33</td>\n",
       "      <td>6194.55</td>\n",
       "      <td>2546.949951</td>\n",
       "    </tr>\n",
       "    <tr>\n",
       "      <th>3</th>\n",
       "      <td>2014-01-06</td>\n",
       "      <td>20787.30</td>\n",
       "      <td>6220.85</td>\n",
       "      <td>2544.649902</td>\n",
       "    </tr>\n",
       "    <tr>\n",
       "      <th>4</th>\n",
       "      <td>2014-01-07</td>\n",
       "      <td>20693.24</td>\n",
       "      <td>6203.90</td>\n",
       "      <td>2543.399902</td>\n",
       "    </tr>\n",
       "  </tbody>\n",
       "</table>\n",
       "</div>"
      ],
      "text/plain": [
       "        Date    SENSEX  NIFTY50  NIFTY_CONSUMPTION\n",
       "0 2014-01-01  21140.48  6323.80        2590.000000\n",
       "1 2014-01-02  20888.33  6301.25        2544.649902\n",
       "2 2014-01-03  20851.33  6194.55        2546.949951\n",
       "3 2014-01-06  20787.30  6220.85        2544.649902\n",
       "4 2014-01-07  20693.24  6203.90        2543.399902"
      ]
     },
     "execution_count": 121,
     "metadata": {},
     "output_type": "execute_result"
    }
   ],
   "source": [
    "df.head()"
   ]
  },
  {
   "cell_type": "code",
   "execution_count": 122,
   "id": "bcdf7b0d",
   "metadata": {},
   "outputs": [],
   "source": [
    "total_size = 2469\n",
    "\n",
    "train_size = 1728 # Training data of 7 years (01-01-2014 to 31-12-2020)\n",
    "test_size = 741 # Testing data of 3 years (01-01-2021 to 31-12-2023)"
   ]
  },
  {
   "cell_type": "markdown",
   "id": "fbed33e1",
   "metadata": {},
   "source": [
    "### Graph construction"
   ]
  },
  {
   "cell_type": "markdown",
   "id": "5719c41c",
   "metadata": {},
   "source": [
    "#### Calculating weekly returns and volatilities (over N consecutive days) for SENSEX, NIFTY50 and NIFTY Consumption"
   ]
  },
  {
   "cell_type": "code",
   "execution_count": 123,
   "id": "cb8147bd",
   "metadata": {},
   "outputs": [],
   "source": [
    "N = total_size\n",
    "\n",
    "sensex_volatilities = []\n",
    "nifty_volatilities = []\n",
    "niftyc_volatilities = []\n",
    "\n",
    "sensex_returns = []\n",
    "nifty_returns = []\n",
    "niftyc_returns = []\n",
    "\n",
    "i = 0\n",
    "j = 0\n",
    "\n",
    "while i < N:\n",
    "    sensex_period_returns = []\n",
    "    nifty_period_returns = []\n",
    "    niftyc_period_returns = []\n",
    "    \n",
    "    period_size = 1\n",
    "    \n",
    "    while ((j + 1) < N) and ((df['Date'][j + 1] - df['Date'][j]) == timedelta(days=1)): # For N-consecutive days\n",
    "        period_size += 1\n",
    "#         print(df['SENSEX'][j])\n",
    "\n",
    "        sensex_ret = math.log(df['SENSEX'][j + 1] / df['SENSEX'][j])\n",
    "        nifty_ret = math.log(df['NIFTY50'][j + 1] / df['NIFTY50'][j])\n",
    "        niftyc_ret = math.log(df['NIFTY_CONSUMPTION'][j + 1] / df['NIFTY_CONSUMPTION'][j])\n",
    "        \n",
    "        sensex_period_returns.append(sensex_ret)\n",
    "        nifty_period_returns.append(nifty_ret)\n",
    "        niftyc_period_returns.append(niftyc_ret)\n",
    "        \n",
    "        j += 1\n",
    "    j += 1\n",
    "    if len(sensex_period_returns) > 1: # One can use try-catch block here\n",
    "        sensex_vol = st.stdev(sensex_period_returns) * math.sqrt(period_size)\n",
    "        nifty_vol = st.stdev(nifty_period_returns) * math.sqrt(period_size)\n",
    "        niftyc_vol = st.stdev(niftyc_period_returns) * math.sqrt(period_size)\n",
    "        \n",
    "    sensex_volatilities.append(sensex_vol)\n",
    "    nifty_volatilities.append(nifty_vol)\n",
    "    niftyc_volatilities.append(niftyc_vol)\n",
    "    \n",
    "#     print(\"\\n\")\n",
    "    if j < N: # One can use try-catch block here\n",
    "        sensex_period_return = math.log(df['SENSEX'][j] / df['SENSEX'][j - period_size])\n",
    "        nifty_period_return = math.log(df['NIFTY50'][j] / df['NIFTY50'][j - period_size])\n",
    "        niftyc_period_return = math.log(df['NIFTY_CONSUMPTION'][j] / df['NIFTY_CONSUMPTION'][j - period_size])\n",
    "    sensex_returns.append(sensex_period_return)\n",
    "    nifty_returns.append(nifty_period_return)\n",
    "    niftyc_returns.append(nifty_period_return)\n",
    "    i = j"
   ]
  },
  {
   "cell_type": "markdown",
   "id": "c487ffc4",
   "metadata": {},
   "source": [
    "Testing cell"
   ]
  },
  {
   "cell_type": "code",
   "execution_count": 124,
   "id": "351a633c",
   "metadata": {},
   "outputs": [
    {
     "name": "stdout",
     "output_type": "stream",
     "text": [
      "592\n"
     ]
    }
   ],
   "source": [
    "print(len(sensex_returns))"
   ]
  },
  {
   "cell_type": "code",
   "execution_count": 125,
   "id": "b244a936",
   "metadata": {},
   "outputs": [],
   "source": [
    "# n = len(sensex_volatilities)\n",
    "# m = len(sensex_returns)\n",
    "\n",
    "# for i in range(n):\n",
    "#     print(sensex_volatilities[i], nifty_volatilities[i], niftyc_volatilities[i])\n",
    "\n",
    "# print(\"\\n\")\n",
    "# for i in range(m):\n",
    "#     print(sensex_returns[i], nifty_returns[i], niftyc_returns[i])"
   ]
  },
  {
   "cell_type": "code",
   "execution_count": 126,
   "id": "84bb3b15",
   "metadata": {},
   "outputs": [],
   "source": [
    "# x = np.random.randint(0, 592, 591)"
   ]
  },
  {
   "cell_type": "markdown",
   "id": "e6d5faf8",
   "metadata": {},
   "source": [
    "#### Listing the returns and volatilities for the 3 indices"
   ]
  },
  {
   "cell_type": "code",
   "execution_count": 127,
   "id": "2b0e054e",
   "metadata": {},
   "outputs": [],
   "source": [
    "train_percent = 0.75\n",
    "test_percent = 1 - train_percent\n",
    "\n",
    "N = len(sensex_returns)\n",
    "\n",
    "train_sensex_returns = []\n",
    "train_nifty_returns = []\n",
    "train_niftyc_returns = []\n",
    "\n",
    "test_sensex_returns = []\n",
    "test_nifty_returns = []\n",
    "test_niftyc_returns = []\n",
    "\n",
    "train_sensex_volatilities = []\n",
    "train_nifty_volatilities = []\n",
    "train_niftyc_volatilities = []\n",
    "\n",
    "test_sensex_volatilities = []\n",
    "test_nifty_volatilities = []\n",
    "test_niftyc_volatilities = []\n",
    "\n",
    "x = np.random.randint(1, N, N)\n",
    "\n",
    "for i in range(int(train_percent * N)):\n",
    "    train_sensex_returns.append(sensex_returns[x[i]])\n",
    "    train_nifty_returns.append(nifty_returns[x[i]])\n",
    "    train_niftyc_returns.append(niftyc_returns[x[i]])\n",
    "    \n",
    "    train_sensex_volatilities.append(sensex_volatilities[x[i]])\n",
    "    train_nifty_volatilities.append(nifty_volatilities[x[i]])\n",
    "    train_niftyc_volatilities.append(niftyc_volatilities[x[i]])\n",
    "    \n",
    "for i in range(int(train_percent * N), N, 1):\n",
    "    test_sensex_returns.append(sensex_returns[x[i]])\n",
    "    test_nifty_returns.append(nifty_returns[x[i]])\n",
    "    test_niftyc_returns.append(niftyc_returns[x[i]])\n",
    "    \n",
    "    test_sensex_volatilities.append(sensex_volatilities[x[i]])\n",
    "    test_nifty_volatilities.append(nifty_volatilities[x[i]])\n",
    "    test_niftyc_volatilities.append(niftyc_volatilities[x[i]])"
   ]
  },
  {
   "cell_type": "markdown",
   "id": "263d0c7c",
   "metadata": {},
   "source": [
    "Testing cell"
   ]
  },
  {
   "cell_type": "code",
   "execution_count": 128,
   "id": "6851bf16",
   "metadata": {},
   "outputs": [],
   "source": [
    "# print(len(train_sensex_returns))\n",
    "# print(len(test_sensex_returns))"
   ]
  },
  {
   "cell_type": "markdown",
   "id": "4a8985c1",
   "metadata": {},
   "source": [
    "#### Taking average for comparsion"
   ]
  },
  {
   "cell_type": "code",
   "execution_count": 129,
   "id": "553282e4",
   "metadata": {},
   "outputs": [],
   "source": [
    "train_sensex_avg_volatility = np.average(train_sensex_volatilities)\n",
    "train_nifty_avg_volatility = np.average(train_nifty_volatilities)\n",
    "train_niftyc_avg_volatility = np.average(train_niftyc_volatilities)\n",
    "\n",
    "test_sensex_avg_volatility = np.average(test_sensex_volatilities)\n",
    "test_nifty_avg_volatility = np.average(test_nifty_volatilities)\n",
    "test_niftyc_avg_volatility = np.average(test_niftyc_volatilities)"
   ]
  },
  {
   "cell_type": "markdown",
   "id": "ca224c21",
   "metadata": {},
   "source": [
    "Testing cell"
   ]
  },
  {
   "cell_type": "code",
   "execution_count": 130,
   "id": "5438dea0",
   "metadata": {},
   "outputs": [],
   "source": [
    "# print(train_sensex_avg_volatility)\n",
    "# print(train_nifty_avg_volatility)\n",
    "# print(train_niftyc_avg_volatility)\n",
    "# print('\\n')\n",
    "\n",
    "# print(test_sensex_avg_volatility)\n",
    "# print(test_nifty_avg_volatility)\n",
    "# print(test_niftyc_avg_volatility)"
   ]
  },
  {
   "cell_type": "markdown",
   "id": "40804a4b",
   "metadata": {},
   "source": [
    "#### Creating graph of patterns using base-4 indexing for nodes"
   ]
  },
  {
   "cell_type": "code",
   "execution_count": 131,
   "id": "e9095676",
   "metadata": {},
   "outputs": [],
   "source": [
    "window_size = 120 # Window size will determine the size of graphs\n",
    "train_pattern_graphs = []\n",
    "train_graph_nodes = []\n",
    "\n",
    "\n",
    "i = 0\n",
    "j = window_size\n",
    "\n",
    "N = len(train_sensex_returns)\n",
    "\n",
    "while j < N:\n",
    "    k = i\n",
    "    \n",
    "    shape = (64, 64)\n",
    "    graph = np.zeros(shape)\n",
    "    nodes = set()\n",
    "    \n",
    "    while (k < j):\n",
    "        \n",
    "        if train_sensex_returns[k] >= 0 and train_sensex_volatilities[k] >= train_sensex_avg_volatility:\n",
    "            prev_sensex_index = 0\n",
    "        if train_sensex_returns[k] >= 0 and train_sensex_volatilities[k] < train_sensex_avg_volatility:\n",
    "            prev_sensex_index = 1\n",
    "        if train_sensex_returns[k] < 0 and train_sensex_volatilities[k] >= train_sensex_avg_volatility:\n",
    "            prev_sensex_index = 2\n",
    "        if train_sensex_returns[k] < 0 and train_sensex_volatilities[k] < train_sensex_avg_volatility:\n",
    "            prev_sensex_index = 3\n",
    "        \n",
    "        if train_nifty_returns[k] >= 0 and train_nifty_volatilities[k] >= train_nifty_avg_volatility:\n",
    "            prev_nifty_index = 0\n",
    "        if train_nifty_returns[k] >= 0 and train_nifty_volatilities[k] < train_nifty_avg_volatility:\n",
    "            prev_nifty_index = 1\n",
    "        if train_nifty_returns[k] < 0 and train_nifty_volatilities[k] >= train_nifty_avg_volatility:\n",
    "            prev_nifty_index = 2\n",
    "        if train_nifty_returns[k] < 0 and train_nifty_volatilities[k] < train_nifty_avg_volatility:\n",
    "            prev_nifty_index = 3\n",
    "        \n",
    "        if train_niftyc_returns[k] >= 0 and train_niftyc_volatilities[k] >= train_niftyc_avg_volatility:\n",
    "            prev_niftyc_index = 0\n",
    "        if train_niftyc_returns[k] >= 0 and train_niftyc_volatilities[k] < train_niftyc_avg_volatility:\n",
    "            prev_niftyc_index = 1\n",
    "        if train_niftyc_returns[k] < 0 and train_niftyc_volatilities[k] >= train_niftyc_avg_volatility:\n",
    "            prev_niftyc_index = 2\n",
    "        if train_niftyc_returns[k] < 0 and train_niftyc_volatilities[k] < train_niftyc_avg_volatility:\n",
    "            prev_niftyc_index = 3\n",
    "\n",
    "        if train_sensex_returns[k + 1] >= 0 and train_sensex_volatilities[k + 1] >= train_sensex_avg_volatility:\n",
    "            next_sensex_index = 0\n",
    "        if train_sensex_returns[k + 1] >= 0 and train_sensex_volatilities[k + 1] < train_sensex_avg_volatility:\n",
    "            next_sensex_index = 1\n",
    "        if train_sensex_returns[k + 1] < 0 and train_sensex_volatilities[k + 1] >= train_sensex_avg_volatility:\n",
    "            next_sensex_index = 2\n",
    "        if train_sensex_returns[k + 1] < 0 and train_sensex_volatilities[k + 1] < train_sensex_avg_volatility:\n",
    "            next_sensex_index = 3\n",
    "        \n",
    "        if train_nifty_returns[k + 1] >= 0 and train_nifty_volatilities[k + 1] >= train_nifty_avg_volatility:\n",
    "            next_nifty_index = 0\n",
    "        if train_nifty_returns[k + 1] >= 0 and train_nifty_volatilities[k + 1] < train_nifty_avg_volatility:\n",
    "            next_nifty_index = 1\n",
    "        if train_nifty_returns[k + 1] < 0 and train_nifty_volatilities[k + 1] >= train_nifty_avg_volatility:\n",
    "            next_nifty_index = 2\n",
    "        if train_nifty_returns[k + 1] < 0 and train_nifty_volatilities[k + 1] < train_nifty_avg_volatility:\n",
    "            next_nifty_index = 3\n",
    "        \n",
    "        if train_niftyc_returns[k + 1] >= 0 and train_niftyc_volatilities[k + 1] >= train_niftyc_avg_volatility:\n",
    "            next_niftyc_index = 0\n",
    "        if train_niftyc_returns[k + 1] >= 0 and train_niftyc_volatilities[k + 1] < train_niftyc_avg_volatility:\n",
    "            next_niftyc_index = 1\n",
    "        if train_niftyc_returns[k + 1] < 0 and train_niftyc_volatilities[k + 1] >= train_niftyc_avg_volatility:\n",
    "            next_niftyc_index = 2\n",
    "        if train_niftyc_returns[k + 1] < 0 and train_niftyc_volatilities[k + 1] < train_niftyc_avg_volatility:\n",
    "            next_niftyc_index = 3\n",
    "\n",
    "        \n",
    "        prev_node = prev_niftyc_index * 4 ** 0 + prev_nifty_index * 4 ** 1 + prev_sensex_index * 4 ** 2\n",
    "        next_node = next_niftyc_index * 4 ** 0 + next_nifty_index * 4 ** 1 + next_sensex_index * 4 ** 2\n",
    "        \n",
    "        graph[prev_node][next_node] += 1\n",
    "        \n",
    "        k += 1\n",
    "        \n",
    "        nodes.add(prev_node) # Adding nodes in a set for all graphs to keep count\n",
    "        nodes.add(next_node)\n",
    "        \n",
    "    train_graph_nodes.append(nodes)\n",
    "#     print('\\n')\n",
    "    train_pattern_graphs.append(graph)\n",
    "    i += 1\n",
    "    j += 1"
   ]
  },
  {
   "cell_type": "code",
   "execution_count": 132,
   "id": "3874f70c",
   "metadata": {},
   "outputs": [],
   "source": [
    "window_size = 60 # Window size will determine the size of graphs\n",
    "test_pattern_graphs = []\n",
    "test_graph_nodes = []\n",
    "\n",
    "\n",
    "i = 0\n",
    "j = window_size\n",
    "\n",
    "N = len(test_sensex_returns)\n",
    "\n",
    "while j < N:\n",
    "    k = i\n",
    "    \n",
    "    shape = (64, 64)\n",
    "    graph = np.zeros(shape)\n",
    "    nodes = set()\n",
    "    \n",
    "    while (k < j):\n",
    "        \n",
    "        if test_sensex_returns[k] >= 0 and test_sensex_volatilities[k] >= test_sensex_avg_volatility:\n",
    "            prev_sensex_index = 0\n",
    "        if test_sensex_returns[k] >= 0 and test_sensex_volatilities[k] < test_sensex_avg_volatility:\n",
    "            prev_sensex_index = 1\n",
    "        if test_sensex_returns[k] < 0 and test_sensex_volatilities[k] >= test_sensex_avg_volatility:\n",
    "            prev_sensex_index = 2\n",
    "        if test_sensex_returns[k] < 0 and test_sensex_volatilities[k] < test_sensex_avg_volatility:\n",
    "            prev_sensex_index = 3\n",
    "        \n",
    "        if test_nifty_returns[k] >= 0 and test_nifty_volatilities[k] >= test_nifty_avg_volatility:\n",
    "            prev_nifty_index = 0\n",
    "        if test_nifty_returns[k] >= 0 and test_nifty_volatilities[k] < test_nifty_avg_volatility:\n",
    "            prev_nifty_index = 1\n",
    "        if test_nifty_returns[k] < 0 and test_nifty_volatilities[k] >= test_nifty_avg_volatility:\n",
    "            prev_nifty_index = 2\n",
    "        if test_nifty_returns[k] < 0 and test_nifty_volatilities[k] < test_nifty_avg_volatility:\n",
    "            prev_nifty_index = 3\n",
    "        \n",
    "        if test_niftyc_returns[k] >= 0 and test_niftyc_volatilities[k] >= test_niftyc_avg_volatility:\n",
    "            prev_niftyc_index = 0\n",
    "        if test_niftyc_returns[k] >= 0 and test_niftyc_volatilities[k] < test_niftyc_avg_volatility:\n",
    "            prev_niftyc_index = 1\n",
    "        if test_niftyc_returns[k] < 0 and test_niftyc_volatilities[k] >= test_niftyc_avg_volatility:\n",
    "            prev_niftyc_index = 2\n",
    "        if test_niftyc_returns[k] < 0 and test_niftyc_volatilities[k] < test_niftyc_avg_volatility:\n",
    "            prev_niftyc_index = 3\n",
    "\n",
    "        if test_sensex_returns[k + 1] >= 0 and test_sensex_volatilities[k + 1] >= test_sensex_avg_volatility:\n",
    "            next_sensex_index = 0\n",
    "        if test_sensex_returns[k + 1] >= 0 and test_sensex_volatilities[k + 1] < test_sensex_avg_volatility:\n",
    "            next_sensex_index = 1\n",
    "        if test_sensex_returns[k + 1] < 0 and test_sensex_volatilities[k + 1] >= test_sensex_avg_volatility:\n",
    "            next_sensex_index = 2\n",
    "        if test_sensex_returns[k + 1] < 0 and test_sensex_volatilities[k + 1] < test_sensex_avg_volatility:\n",
    "            next_sensex_index = 3\n",
    "        \n",
    "        if test_nifty_returns[k + 1] >= 0 and test_nifty_volatilities[k + 1] >= test_nifty_avg_volatility:\n",
    "            next_nifty_index = 0\n",
    "        if test_nifty_returns[k + 1] >= 0 and test_nifty_volatilities[k + 1] < test_nifty_avg_volatility:\n",
    "            next_nifty_index = 1\n",
    "        if test_nifty_returns[k + 1] < 0 and test_nifty_volatilities[k + 1] >= test_nifty_avg_volatility:\n",
    "            next_nifty_index = 2\n",
    "        if test_nifty_returns[k + 1] < 0 and test_nifty_volatilities[k + 1] < test_nifty_avg_volatility:\n",
    "            next_nifty_index = 3\n",
    "        \n",
    "        if test_niftyc_returns[k + 1] >= 0 and test_niftyc_volatilities[k + 1] >= test_niftyc_avg_volatility:\n",
    "            next_niftyc_index = 0\n",
    "        if test_niftyc_returns[k + 1] >= 0 and test_niftyc_volatilities[k + 1] < test_niftyc_avg_volatility:\n",
    "            next_niftyc_index = 1\n",
    "        if test_niftyc_returns[k + 1] < 0 and test_niftyc_volatilities[k + 1] >= test_niftyc_avg_volatility:\n",
    "            next_niftyc_index = 2\n",
    "        if test_niftyc_returns[k + 1] < 0 and test_niftyc_volatilities[k + 1] < test_niftyc_avg_volatility:\n",
    "            next_niftyc_index = 3\n",
    "\n",
    "        \n",
    "        prev_node = prev_niftyc_index * 4 ** 0 + prev_nifty_index * 4 ** 1 + prev_sensex_index * 4 ** 2\n",
    "        next_node = next_niftyc_index * 4 ** 0 + next_nifty_index * 4 ** 1 + next_sensex_index * 4 ** 2\n",
    "        \n",
    "        graph[prev_node][next_node] += 1\n",
    "        \n",
    "        k += 1\n",
    "        \n",
    "        nodes.add(prev_node)\n",
    "        nodes.add(next_node)\n",
    "        \n",
    "    test_graph_nodes.append(nodes)\n",
    "#     print('\\n')\n",
    "    test_pattern_graphs.append(graph)\n",
    "    i += 1\n",
    "    j += 1"
   ]
  },
  {
   "cell_type": "markdown",
   "id": "93a390dc",
   "metadata": {},
   "source": [
    "Testing cell"
   ]
  },
  {
   "cell_type": "code",
   "execution_count": 133,
   "id": "88d61ac6",
   "metadata": {},
   "outputs": [],
   "source": [
    "# for ele in graph_nodes:\n",
    "#     print(len(ele))"
   ]
  },
  {
   "cell_type": "markdown",
   "id": "a525682d",
   "metadata": {},
   "source": [
    "Testing cell"
   ]
  },
  {
   "cell_type": "code",
   "execution_count": 134,
   "id": "e9d9697d",
   "metadata": {},
   "outputs": [],
   "source": [
    "# print(len(train_pattern_graphs))\n",
    "# print(len(train_graph_nodes))\n",
    "# print('\\n')\n",
    "\n",
    "# print(len(test_pattern_graphs))\n",
    "# print(len(test_graph_nodes))"
   ]
  },
  {
   "cell_type": "markdown",
   "id": "c809ab2d",
   "metadata": {},
   "source": [
    "### Centrality Measures as Input variables"
   ]
  },
  {
   "cell_type": "markdown",
   "id": "02d6aae9",
   "metadata": {},
   "source": [
    "#### Finding average degree centrality for training and testing data"
   ]
  },
  {
   "cell_type": "code",
   "execution_count": 135,
   "id": "f64ac62c",
   "metadata": {},
   "outputs": [],
   "source": [
    "train_avg_degree_centralities = []\n",
    "N = len(train_graph_nodes)\n",
    "\n",
    "for k in range(N):\n",
    "    sum = 0\n",
    "    node = 0\n",
    "    degree_centrality = 0\n",
    "    for i in range(64):\n",
    "        flag = False\n",
    "        for j in range(64):\n",
    "            if train_pattern_graphs[k][i][j] > 0:\n",
    "                sum += 1\n",
    "                flag = True\n",
    "        if flag:\n",
    "            node += 1\n",
    "    degree_centrality = (1 / node) ** 2 * sum\n",
    "    train_avg_degree_centralities.append(degree_centrality)"
   ]
  },
  {
   "cell_type": "code",
   "execution_count": 136,
   "id": "d5bd33b7",
   "metadata": {},
   "outputs": [],
   "source": [
    "test_avg_degree_centralities = []\n",
    "N = len(test_graph_nodes)\n",
    "\n",
    "for k in range(N):\n",
    "    sum = 0\n",
    "    node = 0\n",
    "    degree_centrality = 0\n",
    "    for i in range(64):\n",
    "        flag = False\n",
    "        for j in range(64):\n",
    "            if test_pattern_graphs[k][i][j] > 0:\n",
    "                sum += 1\n",
    "                flag = True\n",
    "        if flag:\n",
    "            node += 1\n",
    "    degree_centrality = (1 / node) ** 2 * sum\n",
    "    test_avg_degree_centralities.append(degree_centrality)"
   ]
  },
  {
   "cell_type": "code",
   "execution_count": 137,
   "id": "d1a57131",
   "metadata": {},
   "outputs": [
    {
     "data": {
      "text/plain": [
       "{'whiskers': [<matplotlib.lines.Line2D at 0x27fea1fe0a0>,\n",
       "  <matplotlib.lines.Line2D at 0x27fea1fe370>],\n",
       " 'caps': [<matplotlib.lines.Line2D at 0x27fea1fe640>,\n",
       "  <matplotlib.lines.Line2D at 0x27fea1fe910>],\n",
       " 'boxes': [<matplotlib.lines.Line2D at 0x27fea225d90>],\n",
       " 'medians': [<matplotlib.lines.Line2D at 0x27fea1febe0>],\n",
       " 'fliers': [<matplotlib.lines.Line2D at 0x27fea1feeb0>],\n",
       " 'means': []}"
      ]
     },
     "execution_count": 137,
     "metadata": {},
     "output_type": "execute_result"
    },
    {
     "data": {
      "image/png": "[encoded data removed]",
      "text/plain": [
       "<Figure size 432x288 with 1 Axes>"
      ]
     },
     "metadata": {
      "needs_background": "light"
     },
     "output_type": "display_data"
    }
   ],
   "source": [
    "plt.boxplot(train_avg_degree_centralities)"
   ]
  },
  {
   "cell_type": "markdown",
   "id": "bb9b56a1",
   "metadata": {},
   "source": [
    "Testing cell"
   ]
  },
  {
   "cell_type": "code",
   "execution_count": 139,
   "id": "25fef671",
   "metadata": {},
   "outputs": [],
   "source": [
    "# for ele in avg_degree_centralities:\n",
    "#     print(ele)"
   ]
  },
  {
   "cell_type": "markdown",
   "id": "5a622960",
   "metadata": {},
   "source": [
    "#### Finding average network strength for training and testing data"
   ]
  },
  {
   "cell_type": "code",
   "execution_count": 140,
   "id": "0625cffb",
   "metadata": {},
   "outputs": [],
   "source": [
    "train_graphs_with_same_strength = defaultdict(list)\n",
    "test_graphs_with_same_strength = defaultdict(list)"
   ]
  },
  {
   "cell_type": "code",
   "execution_count": 141,
   "id": "555a2d6a",
   "metadata": {
    "scrolled": true
   },
   "outputs": [],
   "source": [
    "train_avg_network_strengths = []\n",
    "N = len(train_graph_nodes)\n",
    "\n",
    "\n",
    "for k in range(N):\n",
    "    sum = 0\n",
    "    node = 0\n",
    "    strength = 0\n",
    "    for i in range(64):\n",
    "        flag = False\n",
    "        for j in range(64):\n",
    "            if train_pattern_graphs[k][i][j] > 0:\n",
    "                sum += train_pattern_graphs[k][i][j]\n",
    "                flag = True\n",
    "        if flag:\n",
    "            node += 1\n",
    "    strength = (1 / len(train_graph_nodes[k])) * sum\n",
    "#     print(\"\\n\")\n",
    "#     print(type(strength))\n",
    "    train_avg_network_strengths.append(strength)\n",
    "    if train_avg_degree_centralities[k] >= 0.12 and train_avg_degree_centralities[k] <= 0.16:\n",
    "        train_graphs_with_same_strength[strength].append(train_pattern_graphs[k])"
   ]
  },
  {
   "cell_type": "markdown",
   "id": "c94ae257",
   "metadata": {},
   "source": [
    "Testing cell"
   ]
  },
  {
   "cell_type": "code",
   "execution_count": 142,
   "id": "9397858a",
   "metadata": {},
   "outputs": [],
   "source": [
    "# print(graphs_with_same_strength)"
   ]
  },
  {
   "cell_type": "code",
   "execution_count": 143,
   "id": "59c3e1e2",
   "metadata": {},
   "outputs": [],
   "source": [
    "test_avg_network_strengths = []\n",
    "N = len(test_graph_nodes)\n",
    "\n",
    "\n",
    "for k in range(N):\n",
    "    sum = 0\n",
    "    node = 0\n",
    "    strength = 0\n",
    "    for i in range(64):\n",
    "        flag = False\n",
    "        for j in range(64):\n",
    "            if test_pattern_graphs[k][i][j] > 0:\n",
    "                sum += test_pattern_graphs[k][i][j]\n",
    "                flag = True\n",
    "        if flag:\n",
    "            node += 1\n",
    "    strength = (1 / len(test_graph_nodes[k])) * sum\n",
    "    test_avg_network_strengths.append(strength)\n",
    "    if test_avg_degree_centralities[k] >= 0.12 and test_avg_degree_centralities[k] <= 0.16:\n",
    "        test_graphs_with_same_strength[strength].append(test_pattern_graphs[k])"
   ]
  },
  {
   "cell_type": "markdown",
   "id": "61138ae4",
   "metadata": {},
   "source": [
    "Testing cell"
   ]
  },
  {
   "cell_type": "code",
   "execution_count": 144,
   "id": "b9c0d66d",
   "metadata": {},
   "outputs": [],
   "source": [
    "# for ele in avg_network_strengths:\n",
    "#     print(ele)"
   ]
  },
  {
   "cell_type": "markdown",
   "id": "32504bc7",
   "metadata": {},
   "source": [
    "#### Finding average closeness centrality for training and testing data"
   ]
  },
  {
   "cell_type": "code",
   "execution_count": 145,
   "id": "625de8b3",
   "metadata": {},
   "outputs": [],
   "source": [
    "def floyd_warshall(graph):\n",
    "    V = 64\n",
    "    shape = (64, 64)\n",
    "    shortest_graph = np.zeros(shape)\n",
    "    for k in range(0, V):\n",
    "        for i in range(0, V):\n",
    "            for j in range(0, V):\n",
    "                if graph[i][j] > graph[i][k] + graph[k][j] and graph[k][j] != 0 and graph[i][k] != 0:\n",
    "                    shortest_graph[i][j] = shortest_graph[i][k] + shortest_graph[k][j]\n",
    "    return shortest_graph    "
   ]
  },
  {
   "cell_type": "code",
   "execution_count": 146,
   "id": "91e7a753",
   "metadata": {},
   "outputs": [],
   "source": [
    "train_avg_closeness_centrality = []\n",
    "N = len(train_graph_nodes)\n",
    "\n",
    "for k in range(N):\n",
    "    shortest_graph = floyd_warshall(train_pattern_graphs[k])\n",
    "    node = 0\n",
    "    closeness_sum = 0\n",
    "    avg_closeness = 0\n",
    "    sum = 0\n",
    "    for i in range(64):\n",
    "        for j in range(64):\n",
    "                sum += train_pattern_graphs[k][i][j]\n",
    "        if sum > 0:\n",
    "            closeness_sum += (len(train_graph_nodes[k]) - 1) / sum\n",
    "    avg_closeness = (1 / len(train_graph_nodes[k])) * closeness_sum\n",
    "    train_avg_closeness_centrality.append(avg_closeness)   "
   ]
  },
  {
   "cell_type": "code",
   "execution_count": 147,
   "id": "1860de88",
   "metadata": {},
   "outputs": [],
   "source": [
    "test_avg_closeness_centrality = []\n",
    "N = len(test_graph_nodes)\n",
    "\n",
    "for k in range(N):\n",
    "    shortest_graph = floyd_warshall(test_pattern_graphs[k])\n",
    "    node = 0\n",
    "    closeness_sum = 0\n",
    "    avg_closeness = 0\n",
    "    sum = 0\n",
    "    for i in range(64):\n",
    "        for j in range(64):\n",
    "            if test_pattern_graphs[k][i][j] > 0:\n",
    "                sum += test_pattern_graphs[k][i][j]\n",
    "        closeness_sum += (len(test_graph_nodes[k]) - 1) / sum\n",
    "    avg_closeness = (1 / len(test_graph_nodes[k])) * closeness_sum\n",
    "    test_avg_closeness_centrality.append(avg_closeness) "
   ]
  },
  {
   "cell_type": "markdown",
   "id": "392dd6b3",
   "metadata": {},
   "source": [
    "#### Elbow method to determine the optimal value of K for K-means algorithm"
   ]
  },
  {
   "cell_type": "code",
   "execution_count": 148,
   "id": "9488cca8",
   "metadata": {
    "scrolled": true
   },
   "outputs": [
    {
     "data": {
      "image/png": "[encoded data removed]",
      "text/plain": [
       "<Figure size 432x288 with 1 Axes>"
      ]
     },
     "metadata": {
      "needs_background": "light"
     },
     "output_type": "display_data"
    }
   ],
   "source": [
    "data = list(zip(train_avg_degree_centralities, train_avg_network_strengths, train_avg_closeness_centrality))\n",
    "inertias = []\n",
    "# scores = []\n",
    "\n",
    "for i in range(2,20):\n",
    "    kmeans = KMeans(n_clusters=i)\n",
    "    kmeans.fit(data)\n",
    "#     ss = silhouette_score(data, kmeans.fit_predict(data))\n",
    "#     scores.append(ss)\n",
    "#     print(silhouette_score(data, kmeans.fit_predict(data)))\n",
    "    inertias.append(kmeans.inertia_)\n",
    "\n",
    "plt.plot(range(2,20), inertias, marker='o')\n",
    "plt.title('Elbow method')\n",
    "plt.xlabel('Number of clusters')\n",
    "plt.ylabel('Inertia')\n",
    "plt.show()"
   ]
  },
  {
   "cell_type": "code",
   "execution_count": 149,
   "id": "a008b031",
   "metadata": {},
   "outputs": [],
   "source": [
    "# data = list(zip(test_avg_degree_centralities, test_avg_network_strengths))\n",
    "# inertias = []\n",
    "\n",
    "# for i in range(1,10):\n",
    "#     kmeans = KMeans(n_clusters=i)\n",
    "#     kmeans.fit(data)\n",
    "#     inertias.append(kmeans.inertia_)\n",
    "\n",
    "# plt.plot(range(1,10), inertias, marker='o')\n",
    "# plt.title('Elbow method')\n",
    "# plt.xlabel('Number of clusters')\n",
    "# plt.ylabel('Inertia')\n",
    "# plt.show()"
   ]
  },
  {
   "cell_type": "markdown",
   "id": "9ab7c190",
   "metadata": {},
   "source": [
    "Testing cell"
   ]
  },
  {
   "cell_type": "code",
   "execution_count": 150,
   "id": "407e7a19",
   "metadata": {},
   "outputs": [],
   "source": [
    "# for ele in inertias:\n",
    "#     print(ele)"
   ]
  },
  {
   "cell_type": "code",
   "execution_count": 151,
   "id": "ce72ebd2",
   "metadata": {},
   "outputs": [
    {
     "data": {
      "text/plain": [
       "Text(0, 0.5, 'Network strengths')"
      ]
     },
     "execution_count": 151,
     "metadata": {},
     "output_type": "execute_result"
    },
    {
     "data": {
      "image/png": "[encoded data removed]",
      "text/plain": [
       "<Figure size 432x288 with 1 Axes>"
      ]
     },
     "metadata": {
      "needs_background": "light"
     },
     "output_type": "display_data"
    }
   ],
   "source": [
    "fig = plt.figure()\n",
    "ax = fig.add_subplot(111)\n",
    "\n",
    "ax.scatter(train_avg_degree_centralities, train_avg_network_strengths, color='blue')\n",
    "ax.scatter(test_avg_degree_centralities, test_avg_network_strengths, color='red')\n",
    "ax.legend(['Train', 'Test'])\n",
    "ax.set_xlabel('Degree centralities')\n",
    "ax.set_ylabel('Network strengths')"
   ]
  },
  {
   "cell_type": "code",
   "execution_count": 152,
   "id": "e4d80858",
   "metadata": {},
   "outputs": [
    {
     "data": {
      "text/plain": [
       "Text(0, 0.5, 'Network strengths')"
      ]
     },
     "execution_count": 152,
     "metadata": {},
     "output_type": "execute_result"
    },
    {
     "data": {
      "image/png": "[encoded data removed]",
      "text/plain": [
       "<Figure size 432x288 with 1 Axes>"
      ]
     },
     "metadata": {
      "needs_background": "light"
     },
     "output_type": "display_data"
    }
   ],
   "source": [
    "fig = plt.figure()\n",
    "ax = fig.add_subplot(111)\n",
    "\n",
    "ax.scatter(train_avg_closeness_centrality, train_avg_network_strengths, color='blue')\n",
    "ax.scatter(test_avg_closeness_centrality, test_avg_network_strengths, color='red')\n",
    "ax.legend(['Train', 'Test'])\n",
    "ax.set_xlabel('Closeness centralities')\n",
    "ax.set_ylabel('Network strengths')"
   ]
  },
  {
   "cell_type": "code",
   "execution_count": 153,
   "id": "c6f945f7",
   "metadata": {},
   "outputs": [
    {
     "data": {
      "text/plain": [
       "Text(0, 0.5, 'Degree centralities')"
      ]
     },
     "execution_count": 153,
     "metadata": {},
     "output_type": "execute_result"
    },
    {
     "data": {
      "image/png": "[encoded data removed]",
      "text/plain": [
       "<Figure size 432x288 with 1 Axes>"
      ]
     },
     "metadata": {
      "needs_background": "light"
     },
     "output_type": "display_data"
    }
   ],
   "source": [
    "fig = plt.figure()\n",
    "ax = fig.add_subplot(111)\n",
    "\n",
    "ax.scatter(train_avg_closeness_centrality, train_avg_degree_centralities, color='blue')\n",
    "ax.scatter(test_avg_closeness_centrality, test_avg_degree_centralities, color='red')\n",
    "ax.legend(['Train', 'Test'])\n",
    "ax.set_xlabel('Closeness centralities')\n",
    "ax.set_ylabel('Degree centralities')"
   ]
  },
  {
   "cell_type": "code",
   "execution_count": 154,
   "id": "3bb9dcf1",
   "metadata": {},
   "outputs": [
    {
     "data": {
      "text/plain": [
       "Text(0.5, 0, 'Closeness centralities')"
      ]
     },
     "execution_count": 154,
     "metadata": {},
     "output_type": "execute_result"
    },
    {
     "data": {
      "image/png": "[encoded data removed]",
      "text/plain": [
       "<Figure size 432x288 with 1 Axes>"
      ]
     },
     "metadata": {
      "needs_background": "light"
     },
     "output_type": "display_data"
    }
   ],
   "source": [
    "fig = plt.figure()\n",
    "ax = fig.add_subplot(111, projection='3d')\n",
    "\n",
    "ax.scatter(train_avg_degree_centralities, train_avg_network_strengths, train_avg_closeness_centrality, color='blue')\n",
    "ax.set_xlabel('Degree centralities')\n",
    "ax.set_ylabel('Network strengths')\n",
    "ax.set_zlabel('Closeness centralities')"
   ]
  },
  {
   "cell_type": "markdown",
   "id": "ce2df616",
   "metadata": {},
   "source": [
    "### Elbow method to find out the optimal value of K for K-Means"
   ]
  },
  {
   "cell_type": "code",
   "execution_count": 155,
   "id": "268a3501",
   "metadata": {},
   "outputs": [
    {
     "data": {
      "image/png": "[encoded data removed]",
      "text/plain": [
       "<Figure size 432x288 with 1 Axes>"
      ]
     },
     "metadata": {
      "needs_background": "light"
     },
     "output_type": "display_data"
    }
   ],
   "source": [
    "data = list(zip(train_avg_degree_centralities, train_avg_network_strengths))\n",
    "inertias = []\n",
    "silhouettes = []\n",
    "\n",
    "for i in range(2,10):\n",
    "    kmeans = KMeans(n_clusters=i)\n",
    "    kmeans.fit(data)\n",
    "    ss = silhouette_score(data, kmeans.fit_predict(data))\n",
    "    silhouettes.append(ss)\n",
    "#     print(ss)\n",
    "    inertias.append(kmeans.inertia_)\n",
    "\n",
    "plt.plot(range(2,10), inertias, silhouettes, marker='o')\n",
    "plt.legend(['WCSS', 'Silhouette Score'])\n",
    "plt.xlabel('Number of clusters')\n",
    "plt.ylabel('Inertia')\n",
    "plt.show()"
   ]
  },
  {
   "cell_type": "code",
   "execution_count": 156,
   "id": "b0768c42",
   "metadata": {},
   "outputs": [
    {
     "data": {
      "image/png": "[encoded data removed]",
      "text/plain": [
       "<Figure size 432x288 with 1 Axes>"
      ]
     },
     "metadata": {
      "needs_background": "light"
     },
     "output_type": "display_data"
    }
   ],
   "source": [
    "kmeans = KMeans(n_clusters=5)\n",
    "kmeans.fit(data)\n",
    "\n",
    "plt.scatter(train_avg_degree_centralities, train_avg_network_strengths, c=kmeans.labels_)\n",
    "plt.show()"
   ]
  },
  {
   "cell_type": "code",
   "execution_count": 157,
   "id": "faac908b",
   "metadata": {},
   "outputs": [
    {
     "data": {
      "text/plain": [
       "{'whiskers': [<matplotlib.lines.Line2D at 0x27ff4f87130>,\n",
       "  <matplotlib.lines.Line2D at 0x27ff4f87400>],\n",
       " 'caps': [<matplotlib.lines.Line2D at 0x27ff4f876d0>,\n",
       "  <matplotlib.lines.Line2D at 0x27ff4f879a0>],\n",
       " 'boxes': [<matplotlib.lines.Line2D at 0x27ff4f78f40>],\n",
       " 'medians': [<matplotlib.lines.Line2D at 0x27ff4f87c70>],\n",
       " 'fliers': [<matplotlib.lines.Line2D at 0x27ff4f87f40>],\n",
       " 'means': []}"
      ]
     },
     "execution_count": 157,
     "metadata": {},
     "output_type": "execute_result"
    },
    {
     "data": {
      "image/png": "[encoded data removed]",
      "text/plain": [
       "<Figure size 432x288 with 1 Axes>"
      ]
     },
     "metadata": {
      "needs_background": "light"
     },
     "output_type": "display_data"
    }
   ],
   "source": [
    "plt.boxplot(train_avg_degree_centralities)"
   ]
  },
  {
   "cell_type": "code",
   "execution_count": 158,
   "id": "b6640578",
   "metadata": {},
   "outputs": [
    {
     "data": {
      "text/plain": [
       "{'whiskers': [<matplotlib.lines.Line2D at 0x27ff4fe6340>,\n",
       "  <matplotlib.lines.Line2D at 0x27ff4fe6610>],\n",
       " 'caps': [<matplotlib.lines.Line2D at 0x27ff4fe68e0>,\n",
       "  <matplotlib.lines.Line2D at 0x27ff4fe6bb0>],\n",
       " 'boxes': [<matplotlib.lines.Line2D at 0x27ff4fe6190>],\n",
       " 'medians': [<matplotlib.lines.Line2D at 0x27ff4fe6e80>],\n",
       " 'fliers': [<matplotlib.lines.Line2D at 0x27ff4ff5190>],\n",
       " 'means': []}"
      ]
     },
     "execution_count": 158,
     "metadata": {},
     "output_type": "execute_result"
    },
    {
     "data": {
      "image/png": "[encoded data removed]",
      "text/plain": [
       "<Figure size 432x288 with 1 Axes>"
      ]
     },
     "metadata": {
      "needs_background": "light"
     },
     "output_type": "display_data"
    }
   ],
   "source": [
    "plt.boxplot(train_avg_network_strengths)"
   ]
  },
  {
   "cell_type": "code",
   "execution_count": 159,
   "id": "6ee0c0e7",
   "metadata": {},
   "outputs": [],
   "source": [
    "# for key1, value1 in test_graphs_with_same_strength.items():\n",
    "#     for key2, value2 in train_graphs_with_same_strength.items():\n",
    "# #         print(type(key1))\n",
    "#         if key1 == key2:\n",
    "#             test_graphs = []\n",
    "#             train_graphs = []\n",
    "            \n",
    "#             test_graphs = value1\n",
    "#             train_graphs = value2\n",
    "            \n",
    "#             for test_graph in test_graphs:\n",
    "#                 for train_graph in train_graphs:\n",
    "#                     train_nodes = 0\n",
    "#                     test_nodes = 0\n",
    "#                     equals = 0\n",
    "#                     both_pos = 0\n",
    "                    \n",
    "                    \n",
    "#                     for i in range(64):\n",
    "#                         for j in range(64):\n",
    "#                             if train_graph[i][j] > 0:\n",
    "#                                 train_nodes += 1\n",
    "#                             if test_graph[i][j] > 0:\n",
    "#                                 test_nodes += 1\n",
    "#                             if train_graph[i][j] > 0 and test_graph[i][j] > 0:\n",
    "#                                 both_pos += 1\n",
    "#                                 print(train_graph[i][j], test_graph[i][j])\n",
    "#                     min_nodes = min (train_nodes, test_nodes)\n",
    "#                     print('\\n')\n",
    "# #                     print(equals, min_nodes, both_pos)"
   ]
  },
  {
   "cell_type": "code",
   "execution_count": 160,
   "id": "5f06de8c",
   "metadata": {},
   "outputs": [],
   "source": [
    "hybrid_graphs = {}\n",
    "\n",
    "for key, value in train_graphs_with_same_strength.items():\n",
    "    graphs = []\n",
    "    graphs = value\n",
    "    \n",
    "    shape = (64, 64)\n",
    "    hybrid_graph = np.zeros(shape)\n",
    "    \n",
    "    for i in range(64):\n",
    "        for j in range(64):\n",
    "            xor = 0\n",
    "            for k in range(len(graphs)):\n",
    "                xor = xor ^ int(graph[i][j])\n",
    "            hybrid_graph[i][j] = xor\n",
    "    hybrid_graphs[key] = hybrid_graph      "
   ]
  },
  {
   "cell_type": "code",
   "execution_count": 161,
   "id": "b03083c8",
   "metadata": {},
   "outputs": [
    {
     "ename": "ZeroDivisionError",
     "evalue": "division by zero",
     "output_type": "error",
     "traceback": [
      "\u001b[1;31m---------------------------------------------------------------------------\u001b[0m",
      "\u001b[1;31mZeroDivisionError\u001b[0m                         Traceback (most recent call last)",
      "Input \u001b[1;32mIn [161]\u001b[0m, in \u001b[0;36m<cell line: 26>\u001b[1;34m()\u001b[0m\n\u001b[0;32m     24\u001b[0m                 final_total \u001b[38;5;241m+\u001b[39m\u001b[38;5;241m=\u001b[39m total\n\u001b[0;32m     25\u001b[0m             \u001b[38;5;28mprint\u001b[39m(\u001b[38;5;124m'\u001b[39m\u001b[38;5;130;01m\\n\u001b[39;00m\u001b[38;5;124m'\u001b[39m)\n\u001b[1;32m---> 26\u001b[0m \u001b[38;5;28mprint\u001b[39m(\u001b[43mcorrect\u001b[49m\u001b[43m \u001b[49m\u001b[38;5;241;43m/\u001b[39;49m\u001b[43m \u001b[49m\u001b[43mfinal_total\u001b[49m)\n",
      "\u001b[1;31mZeroDivisionError\u001b[0m: division by zero"
     ]
    }
   ],
   "source": [
    "accuracy = 0.0\n",
    "\n",
    "correct = 0\n",
    "final_total = 0\n",
    "for key1, value1 in hybrid_graphs.items():\n",
    "    for key2, value2 in test_graphs_with_same_strength.items():\n",
    "        if key1 == key2:\n",
    "            test_graphs = []\n",
    "            test_graphs = value2\n",
    "            hybrid_graph = value1\n",
    "            \n",
    "            for test_graph in test_graphs:\n",
    "                equals = 0\n",
    "                total = 0\n",
    "                for i in range(64):\n",
    "                    for j in range(64):\n",
    "                        if test_graph[i][j] > 0 and hybrid_graph[i][j] > 0:\n",
    "                            total += 1\n",
    "                        if test_graph[i][j] > 0 and hybrid_graph[i][j] > 0 and test_graph[i][j] == hybrid_graph[i][j]:\n",
    "                            equals += 1\n",
    "                            print(test_graph[i][j], hybrid_graph[i][j])\n",
    "                print(equals, total)\n",
    "                correct += equals\n",
    "                final_total += total\n",
    "            print('\\n')\n",
    "print(correct / final_total)"
   ]
  },
  {
   "cell_type": "code",
   "execution_count": null,
   "id": "0d466a92",
   "metadata": {},
   "outputs": [],
   "source": [
    "relevant = 0\n",
    "for ele in train_avg_degree_centralities:\n",
    "    if ele >= 0.13 and ele <= 0.17:\n",
    "        relevant += 1\n",
    "print(relevant)\n",
    "print(len(train_avg_degree_centralities))"
   ]
  },
  {
   "cell_type": "code",
   "execution_count": null,
   "id": "9ccca98e",
   "metadata": {},
   "outputs": [],
   "source": []
  }
 ],
 "metadata": {
  "kernelspec": {
   "display_name": "Python 3 (ipykernel)",
   "language": "python",
   "name": "python3"
  },
  "language_info": {
   "codemirror_mode": {
    "name": "ipython",
    "version": 3
   },
   "file_extension": ".py",
   "mimetype": "text/x-python",
   "name": "python",
   "nbconvert_exporter": "python",
   "pygments_lexer": "ipython3",
   "version": "3.9.12"
  }
 },
 "nbformat": 4,
 "nbformat_minor": 5
}
